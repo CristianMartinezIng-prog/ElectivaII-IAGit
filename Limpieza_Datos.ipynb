{
 "cells": [
  {
   "cell_type": "markdown",
   "metadata": {},
   "source": [
    "# Importar el archivo .csv que trata sobre: Conjunto de datos sobre enfermedades pulmonares e imprimir 6 primeras filas"
   ]
  },
  {
   "cell_type": "code",
   "execution_count": 76,
   "metadata": {},
   "outputs": [
    {
     "name": "stdout",
     "output_type": "stream",
     "text": [
      "    Age  Gender Smoking Status  Lung Capacity Disease Type Treatment Type  \\\n",
      "0  71.0  Female             No           4.49         COPD        Therapy   \n",
      "1  34.0  Female            Yes            NaN   Bronchitis        Surgery   \n",
      "2  80.0    Male            Yes           1.95         COPD            NaN   \n",
      "3  40.0  Female            Yes            NaN   Bronchitis     Medication   \n",
      "4  43.0    Male            Yes           4.60         COPD        Surgery   \n",
      "5  22.0  Female             No           3.65   Bronchitis     Medication   \n",
      "\n",
      "   Hospital Visits Recovered  \n",
      "0             14.0       Yes  \n",
      "1              7.0        No  \n",
      "2              4.0       Yes  \n",
      "3              1.0        No  \n",
      "4              NaN       Yes  \n",
      "5             11.0       Yes  \n"
     ]
    }
   ],
   "source": [
    "import pandas as pd\n",
    "import matplotlib.pyplot as plt\n",
    "\n",
    "# Cargar el archivo CSV\n",
    "df = pd.read_csv('lung_disease_data.csv')\n",
    "print(df.head(6))\n"
   ]
  },
  {
   "cell_type": "markdown",
   "metadata": {},
   "source": [
    "# Identificar la cantidad de valores nulos en cada columna"
   ]
  },
  {
   "cell_type": "code",
   "execution_count": 2,
   "metadata": {},
   "outputs": [
    {
     "name": "stdout",
     "output_type": "stream",
     "text": [
      "Age                300\n",
      "Gender             300\n",
      "Smoking Status     300\n",
      "Lung Capacity      300\n",
      "Disease Type       300\n",
      "Treatment Type     300\n",
      "Hospital Visits    300\n",
      "Recovered          300\n",
      "dtype: int64\n"
     ]
    }
   ],
   "source": [
    "valores_nulos = df.isnull().sum()\n",
    "\n",
    "print(valores_nulos)"
   ]
  },
  {
   "cell_type": "markdown",
   "metadata": {},
   "source": [
    "# Encontrar valores duplicados"
   ]
  },
  {
   "cell_type": "code",
   "execution_count": 74,
   "metadata": {},
   "outputs": [],
   "source": [
    "df_SinduplicadosCsv = df.drop_duplicates()"
   ]
  },
  {
   "cell_type": "markdown",
   "metadata": {},
   "source": [
    "# Eencontrar valores atipicos atravez de BOXPLOT de Hospital Visits y Age"
   ]
  },
  {
   "cell_type": "code",
   "execution_count": 62,
   "metadata": {},
   "outputs": [
    {
     "data": {
      "image/png": "[encoded data removed]",
      "text/plain": [
       "<Figure size 640x480 with 1 Axes>"
      ]
     },
     "metadata": {},
     "output_type": "display_data"
    }
   ],
   "source": [
    "import seaborn as sns\n",
    "import matplotlib.pyplot as plt\n",
    "\n",
    "sns.boxplot(x=df[\"Hospital Visits\"])\n",
    "plt.show()"
   ]
  },
  {
   "cell_type": "code",
   "execution_count": 65,
   "metadata": {},
   "outputs": [
    {
     "data": {
      "image/png": "[encoded data removed]",
      "text/plain": [
       "<Figure size 640x480 with 1 Axes>"
      ]
     },
     "metadata": {},
     "output_type": "display_data"
    }
   ],
   "source": [
    "import seaborn as sns\n",
    "import matplotlib.pyplot as plt\n",
    "\n",
    "sns.boxplot(x=df[\"Age\"])\n",
    "plt.show()"
   ]
  },
  {
   "cell_type": "markdown",
   "metadata": {},
   "source": [
    "# Correccion de valores atipicos para Age : Edad"
   ]
  },
  {
   "cell_type": "code",
   "execution_count": 69,
   "metadata": {},
   "outputs": [],
   "source": [
    "dfEdades = df[df['Age'] < 100]"
   ]
  },
  {
   "cell_type": "markdown",
   "metadata": {},
   "source": [
    "# Convertir todas los datos almacenados en las columnas de texto a minusculas"
   ]
  },
  {
   "cell_type": "code",
   "execution_count": 75,
   "metadata": {},
   "outputs": [],
   "source": [
    "columnas_a_minusculas = [\"Gender\", \"Smoking Status\", \"Disease Type\", \"Treatment Type\", \"Recovered\"] \n",
    "\n",
    "df[columnas_a_minusculas] = df[columnas_a_minusculas].apply(lambda x: x.str.lower().str.strip())\n"
   ]
  },
  {
   "cell_type": "markdown",
   "metadata": {},
   "source": [
    "# Eliminar todos los datos que contengan Nulos"
   ]
  },
  {
   "cell_type": "code",
   "execution_count": 77,
   "metadata": {},
   "outputs": [],
   "source": [
    "df = df.dropna()"
   ]
  },
  {
   "cell_type": "markdown",
   "metadata": {},
   "source": [
    "# Exportar .csv llamado datos_limpios donde esta el resultado de lo aplicado"
   ]
  },
  {
   "cell_type": "code",
   "execution_count": 72,
   "metadata": {},
   "outputs": [],
   "source": [
    "df.to_csv(\"datos_limpios.csv\", index=False)"
   ]
  }
 ],
 "metadata": {
  "kernelspec": {
   "display_name": "Python 3",
   "language": "python",
   "name": "python3"
  },
  "language_info": {
   "codemirror_mode": {
    "name": "ipython",
    "version": 3
   },
   "file_extension": ".py",
   "mimetype": "text/x-python",
   "name": "python",
   "nbconvert_exporter": "python",
   "pygments_lexer": "ipython3",
   "version": "3.11.9"
  }
 },
 "nbformat": 4,
 "nbformat_minor": 2
}
